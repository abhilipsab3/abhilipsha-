{
 "cells": [
  {
   "cell_type": "code",
   "execution_count": 1,
   "metadata": {},
   "outputs": [
    {
     "name": "stdout",
     "output_type": "stream",
     "text": [
      "hello world\n"
     ]
    }
   ],
   "source": [
    "print('hello world')\n"
   ]
  },
  {
   "cell_type": "code",
   "execution_count": 5,
   "metadata": {},
   "outputs": [
    {
     "name": "stdout",
     "output_type": "stream",
     "text": [
      "enter first number5\n",
      "enter second number7\n",
      "the sum of 5 and 7 is 12\n"
     ]
    }
   ],
   "source": [
    "#ADDING TWO NUMBER..\n",
    "num1=int(input('enter first number'))\n",
    "num2=int(input('enter second number'))\n",
    "sum=num1+num2\n",
    "print('the sum of {0} and {1} is {2}'. format (num1,num2,sum))"
   ]
  },
  {
   "cell_type": "code",
   "execution_count": 11,
   "metadata": {},
   "outputs": [
    {
     "name": "stdout",
     "output_type": "stream",
     "text": [
      "Enter value of p: 12\n",
      "Enter value of q: 14\n",
      "The value of p after swapping: 14\n",
      "The value of q after swapping: 12\n"
     ]
    }
   ],
   "source": [
    "#SWAP OF TWO VARIABLE..\n",
    "# Python program to swap two variables\n",
    "\n",
    "p = 12\n",
    "q = 14\n",
    "\n",
    "# To take inputs from the user\n",
    "p = input('Enter value of p: ')\n",
    "q = input('Enter value of q: ')\n",
    "\n",
    "# create a temporary variable and swap the values\n",
    "temp = p\n",
    "p = q\n",
    "q = temp\n",
    "\n",
    "\n",
    "print('The value of p after swapping: {}'.format(p))\n",
    "print('The value of q after swapping: {}'.format(q))\n"
   ]
  },
  {
   "cell_type": "code",
   "execution_count": 12,
   "metadata": {},
   "outputs": [
    {
     "name": "stdout",
     "output_type": "stream",
     "text": [
      "Enter a number: 2\n",
      "Positive number\n"
     ]
    }
   ],
   "source": [
    "#CHECK A NUMBER IS POSITIVE OR NEGATIVE..\n",
    "num = int(input(\"Enter a number: \"))\n",
    "if num > 0:\n",
    "   print(\"Positive number\")\n",
    "elif num == 0:\n",
    "   print(\"Zero\")\n",
    "else:\n",
    "   print(\"Negative number\")\n"
   ]
  },
  {
   "cell_type": "code",
   "execution_count": 13,
   "metadata": {},
   "outputs": [
    {
     "name": "stdout",
     "output_type": "stream",
     "text": [
      "Enter a number: 3\n",
      "3 is Odd\n"
     ]
    }
   ],
   "source": [
    "# CHECK THE INPUT NUMBER IS WHEATHER ODD OR EVEN..\n",
    "\n",
    "num = int(input(\"Enter a number: \"))\n",
    "if (num % 2) == 0:\n",
    "   print(\"{0} is Even\".format(num))\n",
    "else:\n",
    "   print(\"{0} is Odd\".format(num))"
   ]
  },
  {
   "cell_type": "code",
   "execution_count": 18,
   "metadata": {},
   "outputs": [
    {
     "name": "stdout",
     "output_type": "stream",
     "text": [
      "2000 is a leap year\n"
     ]
    }
   ],
   "source": [
    "# PYTHON PROGRAMM CHECK A YEAR IS LEAP OR NOT\n",
    "\n",
    "year = 2000\n",
    "\n",
    "if (year % 400 == 0) and (year % 100 == 0):\n",
    "    print(\"{0} is a leap year\".format(year))\n",
    "    \n",
    "elif (year % 4 ==0) and (year % 100 != 0):\n",
    "    print(\"{0} is a leap year\".format(year))\n",
    "\n",
    "else:\n",
    "    print(\"{0} is not a leap year\".fomat(year))"
   ]
  },
  {
   "cell_type": "code",
   "execution_count": 19,
   "metadata": {},
   "outputs": [
    {
     "name": "stdout",
     "output_type": "stream",
     "text": [
      "The sum is 136\n"
     ]
    }
   ],
   "source": [
    "# Sum of natural numbers up to num\n",
    "\n",
    "num = 16\n",
    "\n",
    "if num < 0:\n",
    "   print(\"Enter a positive number\")\n",
    "else:\n",
    "   sum = 0\n",
    "   # use while loop to iterate until zero\n",
    "   while(num > 0):\n",
    "       sum += num\n",
    "       num -= 1\n",
    "   print(\"The sum is\", sum)\n"
   ]
  },
  {
   "cell_type": "code",
   "execution_count": null,
   "metadata": {},
   "outputs": [],
   "source": []
  }
 ],
 "metadata": {
  "kernelspec": {
   "display_name": "Python 3",
   "language": "python",
   "name": "python3"
  },
  "language_info": {
   "codemirror_mode": {
    "name": "ipython",
    "version": 3
   },
   "file_extension": ".py",
   "mimetype": "text/x-python",
   "name": "python",
   "nbconvert_exporter": "python",
   "pygments_lexer": "ipython3",
   "version": "3.8.5"
  }
 },
 "nbformat": 4,
 "nbformat_minor": 4
}
